{
 "cells": [
  {
   "cell_type": "markdown",
   "metadata": {},
   "source": [
    "# The Best and Worst Pitchers in MLB History"
   ]
  },
  {
   "cell_type": "code",
   "execution_count": 1,
   "metadata": {},
   "outputs": [],
   "source": [
    "import pandas as pd\n",
    "pitching = pd.read_csv(\"../baseballdatabank-2023.1/core/Pitching.csv\")"
   ]
  },
  {
   "cell_type": "markdown",
   "metadata": {},
   "source": [
    "Data courtesy of [Sean Lahman's Baseball](http://www.seanlahman.com/download-baseball-database)"
   ]
  },
  {
   "cell_type": "code",
   "execution_count": 2,
   "metadata": {},
   "outputs": [],
   "source": [
    "import scipy.stats as stats\n",
    "import matplotlib.pyplot as plt\n",
    "import numpy as np"
   ]
  },
  {
   "cell_type": "code",
   "execution_count": 3,
   "metadata": {},
   "outputs": [
    {
     "data": {
      "text/html": [
       "<div>\n",
       "<style scoped>\n",
       "    .dataframe tbody tr th:only-of-type {\n",
       "        vertical-align: middle;\n",
       "    }\n",
       "\n",
       "    .dataframe tbody tr th {\n",
       "        vertical-align: top;\n",
       "    }\n",
       "\n",
       "    .dataframe thead th {\n",
       "        text-align: right;\n",
       "    }\n",
       "</style>\n",
       "<table border=\"1\" class=\"dataframe\">\n",
       "  <thead>\n",
       "    <tr style=\"text-align: right;\">\n",
       "      <th></th>\n",
       "      <th>playerID</th>\n",
       "      <th>yearID</th>\n",
       "      <th>stint</th>\n",
       "      <th>teamID</th>\n",
       "      <th>lgID</th>\n",
       "      <th>W</th>\n",
       "      <th>L</th>\n",
       "      <th>G</th>\n",
       "      <th>GS</th>\n",
       "      <th>CG</th>\n",
       "      <th>...</th>\n",
       "      <th>IBB</th>\n",
       "      <th>WP</th>\n",
       "      <th>HBP</th>\n",
       "      <th>BK</th>\n",
       "      <th>BFP</th>\n",
       "      <th>GF</th>\n",
       "      <th>R</th>\n",
       "      <th>SH</th>\n",
       "      <th>SF</th>\n",
       "      <th>GIDP</th>\n",
       "    </tr>\n",
       "  </thead>\n",
       "  <tbody>\n",
       "    <tr>\n",
       "      <th>0</th>\n",
       "      <td>bechtge01</td>\n",
       "      <td>1871</td>\n",
       "      <td>1</td>\n",
       "      <td>PH1</td>\n",
       "      <td>NaN</td>\n",
       "      <td>1</td>\n",
       "      <td>2</td>\n",
       "      <td>3</td>\n",
       "      <td>3</td>\n",
       "      <td>2</td>\n",
       "      <td>...</td>\n",
       "      <td>NaN</td>\n",
       "      <td>7</td>\n",
       "      <td>NaN</td>\n",
       "      <td>0</td>\n",
       "      <td>146.0</td>\n",
       "      <td>0</td>\n",
       "      <td>42</td>\n",
       "      <td>NaN</td>\n",
       "      <td>NaN</td>\n",
       "      <td>NaN</td>\n",
       "    </tr>\n",
       "    <tr>\n",
       "      <th>1</th>\n",
       "      <td>brainas01</td>\n",
       "      <td>1871</td>\n",
       "      <td>1</td>\n",
       "      <td>WS3</td>\n",
       "      <td>NaN</td>\n",
       "      <td>12</td>\n",
       "      <td>15</td>\n",
       "      <td>30</td>\n",
       "      <td>30</td>\n",
       "      <td>30</td>\n",
       "      <td>...</td>\n",
       "      <td>NaN</td>\n",
       "      <td>7</td>\n",
       "      <td>NaN</td>\n",
       "      <td>0</td>\n",
       "      <td>1291.0</td>\n",
       "      <td>0</td>\n",
       "      <td>292</td>\n",
       "      <td>NaN</td>\n",
       "      <td>NaN</td>\n",
       "      <td>NaN</td>\n",
       "    </tr>\n",
       "    <tr>\n",
       "      <th>2</th>\n",
       "      <td>fergubo01</td>\n",
       "      <td>1871</td>\n",
       "      <td>1</td>\n",
       "      <td>NY2</td>\n",
       "      <td>NaN</td>\n",
       "      <td>0</td>\n",
       "      <td>0</td>\n",
       "      <td>1</td>\n",
       "      <td>0</td>\n",
       "      <td>0</td>\n",
       "      <td>...</td>\n",
       "      <td>NaN</td>\n",
       "      <td>2</td>\n",
       "      <td>NaN</td>\n",
       "      <td>0</td>\n",
       "      <td>14.0</td>\n",
       "      <td>0</td>\n",
       "      <td>9</td>\n",
       "      <td>NaN</td>\n",
       "      <td>NaN</td>\n",
       "      <td>NaN</td>\n",
       "    </tr>\n",
       "    <tr>\n",
       "      <th>3</th>\n",
       "      <td>fishech01</td>\n",
       "      <td>1871</td>\n",
       "      <td>1</td>\n",
       "      <td>RC1</td>\n",
       "      <td>NaN</td>\n",
       "      <td>4</td>\n",
       "      <td>16</td>\n",
       "      <td>24</td>\n",
       "      <td>24</td>\n",
       "      <td>22</td>\n",
       "      <td>...</td>\n",
       "      <td>NaN</td>\n",
       "      <td>20</td>\n",
       "      <td>NaN</td>\n",
       "      <td>0</td>\n",
       "      <td>1080.0</td>\n",
       "      <td>1</td>\n",
       "      <td>257</td>\n",
       "      <td>NaN</td>\n",
       "      <td>NaN</td>\n",
       "      <td>NaN</td>\n",
       "    </tr>\n",
       "    <tr>\n",
       "      <th>4</th>\n",
       "      <td>fleetfr01</td>\n",
       "      <td>1871</td>\n",
       "      <td>1</td>\n",
       "      <td>NY2</td>\n",
       "      <td>NaN</td>\n",
       "      <td>0</td>\n",
       "      <td>1</td>\n",
       "      <td>1</td>\n",
       "      <td>1</td>\n",
       "      <td>1</td>\n",
       "      <td>...</td>\n",
       "      <td>NaN</td>\n",
       "      <td>0</td>\n",
       "      <td>NaN</td>\n",
       "      <td>0</td>\n",
       "      <td>57.0</td>\n",
       "      <td>0</td>\n",
       "      <td>21</td>\n",
       "      <td>NaN</td>\n",
       "      <td>NaN</td>\n",
       "      <td>NaN</td>\n",
       "    </tr>\n",
       "  </tbody>\n",
       "</table>\n",
       "<p>5 rows × 30 columns</p>\n",
       "</div>"
      ],
      "text/plain": [
       "    playerID  yearID  stint teamID lgID   W   L   G  GS  CG  ...  IBB  WP  \\\n",
       "0  bechtge01    1871      1    PH1  NaN   1   2   3   3   2  ...  NaN   7   \n",
       "1  brainas01    1871      1    WS3  NaN  12  15  30  30  30  ...  NaN   7   \n",
       "2  fergubo01    1871      1    NY2  NaN   0   0   1   0   0  ...  NaN   2   \n",
       "3  fishech01    1871      1    RC1  NaN   4  16  24  24  22  ...  NaN  20   \n",
       "4  fleetfr01    1871      1    NY2  NaN   0   1   1   1   1  ...  NaN   0   \n",
       "\n",
       "   HBP  BK     BFP  GF    R  SH  SF  GIDP  \n",
       "0  NaN   0   146.0   0   42 NaN NaN   NaN  \n",
       "1  NaN   0  1291.0   0  292 NaN NaN   NaN  \n",
       "2  NaN   0    14.0   0    9 NaN NaN   NaN  \n",
       "3  NaN   0  1080.0   1  257 NaN NaN   NaN  \n",
       "4  NaN   0    57.0   0   21 NaN NaN   NaN  \n",
       "\n",
       "[5 rows x 30 columns]"
      ]
     },
     "execution_count": 3,
     "metadata": {},
     "output_type": "execute_result"
    }
   ],
   "source": [
    "pitching.head()"
   ]
  },
  {
   "cell_type": "code",
   "execution_count": null,
   "metadata": {},
   "outputs": [],
   "source": [
    "pitching.columns"
   ]
  },
  {
   "cell_type": "markdown",
   "metadata": {},
   "source": [
    "## Calculating Pitcher Totals"
   ]
  },
  {
   "cell_type": "markdown",
   "metadata": {},
   "source": [
    "We'll group by `playerID` to be able to work with career statistics *per pitcher*."
   ]
  },
  {
   "cell_type": "code",
   "execution_count": null,
   "metadata": {},
   "outputs": [],
   "source": [
    "pitchers = pitching.groupby('playerID').sum()"
   ]
  },
  {
   "cell_type": "code",
   "execution_count": null,
   "metadata": {},
   "outputs": [],
   "source": [
    "pitchers.sample(8)"
   ]
  },
  {
   "cell_type": "markdown",
   "metadata": {},
   "source": [
    "## Restoring Year"
   ]
  },
  {
   "cell_type": "markdown",
   "metadata": {},
   "source": [
    "This has ruined our `yearID` column! We'll want to have a sense of *when* our pitchers pitched later (see below), so let's now add a column that will record a pitcher's *first year* in the Major Leagues."
   ]
  },
  {
   "cell_type": "code",
   "execution_count": null,
   "metadata": {},
   "outputs": [],
   "source": [
    "pitchers['firstYear'] = pitching.groupby('playerID').agg({'yearID': 'min'})"
   ]
  },
  {
   "cell_type": "code",
   "execution_count": null,
   "metadata": {},
   "outputs": [],
   "source": [
    "pitchers.sample(8)"
   ]
  },
  {
   "cell_type": "markdown",
   "metadata": {},
   "source": [
    "## Adding a WHIP Column"
   ]
  },
  {
   "cell_type": "markdown",
   "metadata": {},
   "source": [
    "Now then: How shall we measure pitching prowess? There are of course many statistics we might use, but a good one is **WHIP**: **W**alks plus **H**its divided by **I**nnings **P**itched.\n",
    "\n",
    "We'll have to create this as a new column since it doesn't exist per se in our data. But we can calculate it. Note that our data includes `IPouts` rather than `IP`, where `IP` * 3 = `IPouts`."
   ]
  },
  {
   "cell_type": "code",
   "execution_count": null,
   "metadata": {},
   "outputs": [],
   "source": [
    "pitchers['WHIP'] = 3 * (pitchers['BB'] + pitchers['IBB'] + pitchers['H']) / pitchers['IPouts']"
   ]
  },
  {
   "cell_type": "code",
   "execution_count": null,
   "metadata": {},
   "outputs": [],
   "source": [
    "pitchers['WHIP'].sample(10)"
   ]
  },
  {
   "cell_type": "markdown",
   "metadata": {},
   "source": [
    "## Plotting the WHIP Distribution"
   ]
  },
  {
   "cell_type": "markdown",
   "metadata": {},
   "source": [
    "We'll need to drop the infinite values (from those pitchers who appeared in games but never got an out!)."
   ]
  },
  {
   "cell_type": "code",
   "execution_count": null,
   "metadata": {},
   "outputs": [],
   "source": [
    "finite_whips = pitchers[pitchers['WHIP'] != np.inf]"
   ]
  },
  {
   "cell_type": "code",
   "execution_count": null,
   "metadata": {},
   "outputs": [],
   "source": [
    "finite_whips['WHIP'].hist(bins=20);"
   ]
  },
  {
   "cell_type": "code",
   "execution_count": null,
   "metadata": {},
   "outputs": [],
   "source": [
    "finite_whips[finite_whips['WHIP'] < 10]['WHIP'].hist();"
   ]
  },
  {
   "cell_type": "code",
   "execution_count": null,
   "metadata": {},
   "outputs": [],
   "source": [
    "finite_whips[finite_whips['WHIP'] < 6]['WHIP'].hist(bins=15);"
   ]
  },
  {
   "cell_type": "markdown",
   "metadata": {},
   "source": [
    "This distribution looks much like a **Poisson** Distribution, which is appropriate, since in effect we're talking about predicting a number of events (walks or hits) in a certain amount of time (an inning). The conjugate prior for a Poisson Distribution is a **Gamma** Distribution."
   ]
  },
  {
   "cell_type": "markdown",
   "metadata": {},
   "source": [
    "## Typical WHIP"
   ]
  },
  {
   "cell_type": "code",
   "execution_count": null,
   "metadata": {},
   "outputs": [],
   "source": [
    "# Average over every pitcher's career\n",
    "\n",
    "finite_whips['WHIP'].mean()"
   ]
  },
  {
   "cell_type": "markdown",
   "metadata": {},
   "source": [
    "Let's go with 1.67 as our ordinary WHIP. This will serve as our Bayesian prior, although we'll still need to make a choice about how many innings (and walks + hits) to use as our baseline."
   ]
  },
  {
   "cell_type": "markdown",
   "metadata": {},
   "source": [
    "## Going Bayesian: Adding a `MAP_WHIP` column"
   ]
  },
  {
   "cell_type": "markdown",
   "metadata": {},
   "source": [
    "We can't just look directly at WHIPs, since some pitchers' stats will be misleadingly low or misleadingly high: If someone pitched two innings over their whole career and didn't give up a hit or a walk, that pitcher would have a career WHIP of 0, but that doesn't make him the greatest pitcher of all time."
   ]
  },
  {
   "cell_type": "code",
   "execution_count": null,
   "metadata": {},
   "outputs": [],
   "source": [
    "pitchers.sort_values(['WHIP', 'IPouts'], ascending=[True, False]).head()"
   ]
  },
  {
   "cell_type": "markdown",
   "metadata": {},
   "source": [
    "The man at the top here is [Al Braithwood](https://www.baseball-reference.com/players/b/braital01.shtml). Ever heard of him? No, because, even though he has a career WHIP of 0, he only ever pitched three innings!"
   ]
  },
  {
   "cell_type": "markdown",
   "metadata": {},
   "source": [
    "So we need some kind of baseline to compare pitchers against. This is why we calculated an average WHIP. This baseline will serve as our Bayesian prior, and, because of the nature of conjugacy, all we need to do is to add this baseline to existing data to calculate a posterior.\n",
    "\n",
    "Let's see what we get if we use 100 innings and 160 walks + hits, and look for the best adjusted WHIPs of all time."
   ]
  },
  {
   "cell_type": "code",
   "execution_count": null,
   "metadata": {},
   "outputs": [],
   "source": [
    "pitchers['MAP_WHIP'] = 3 * (pitchers['BB'] + pitchers['IBB'] + pitchers['H'] + 167) / (pitchers['IPouts'] + 300)"
   ]
  },
  {
   "cell_type": "code",
   "execution_count": null,
   "metadata": {},
   "outputs": [],
   "source": [
    "pitchers.sort_values('MAP_WHIP', ascending=True).head()"
   ]
  },
  {
   "cell_type": "markdown",
   "metadata": {},
   "source": [
    "At the top there is [Addie Joss](https://www.baseball-reference.com/players/j/jossad01.shtml), a real legend of the early game."
   ]
  },
  {
   "cell_type": "markdown",
   "metadata": {},
   "source": [
    "## Trying Different Starting Numbers"
   ]
  },
  {
   "cell_type": "code",
   "execution_count": null,
   "metadata": {},
   "outputs": [],
   "source": [
    "def whip_prior(wh, ipouts, ascending=False, number=10, data=pitchers):\n",
    "    \"\"\"\n",
    "    This function takes in a number of hits plus walks and a number of\n",
    "    innings to use as prior values for the Bayesian MAP Method. It returns\n",
    "    the top (worst) hitter according to the MAP average. The ratio\n",
    "    of hits plus walks to innings should be (near) 167:100. By default it finds\n",
    "    the *worst* pitchers. To find the best, set the `ascending` parameter\n",
    "    to True. \n",
    "    \"\"\"\n",
    "    data['MAP_WHIP'] = 3 * (data['BB'] + data['IBB'] + data['H'] + wh) / (data['IPouts'] + ipouts)\n",
    "    return data.sort_values('MAP_WHIP', ascending=ascending).head(number)"
   ]
  },
  {
   "cell_type": "markdown",
   "metadata": {},
   "source": [
    "Let's try this function out!"
   ]
  },
  {
   "cell_type": "code",
   "execution_count": null,
   "metadata": {},
   "outputs": [],
   "source": [
    "whip_prior(16.7, 30)"
   ]
  },
  {
   "cell_type": "markdown",
   "metadata": {},
   "source": [
    "## Proceeding Systematically"
   ]
  },
  {
   "cell_type": "markdown",
   "metadata": {},
   "source": [
    "We'll grab the worst pitcher for lots of different starting numbers of innings pitched."
   ]
  },
  {
   "cell_type": "code",
   "execution_count": null,
   "metadata": {},
   "outputs": [],
   "source": [
    "worsts = {}\n",
    "for ipouts in range(10, 10001, 10):\n",
    "    worsts[ipouts] = whip_prior(ipouts*167/300, ipouts, number=1).iloc[0].name"
   ]
  },
  {
   "cell_type": "code",
   "execution_count": null,
   "metadata": {},
   "outputs": [],
   "source": [
    "set(worsts.values())"
   ]
  },
  {
   "cell_type": "markdown",
   "metadata": {},
   "source": [
    "For different numbers of innings we get different pitchers with the highest WHIP."
   ]
  },
  {
   "cell_type": "code",
   "execution_count": null,
   "metadata": {},
   "outputs": [],
   "source": [
    "pitcher_with_ip = {}\n",
    "for ipout_num in worsts:\n",
    "    if worsts[ipout_num] not in pitcher_with_ip:\n",
    "        pitcher_with_ip[worsts[ipout_num]] = ipout_num"
   ]
  },
  {
   "cell_type": "code",
   "execution_count": null,
   "metadata": {},
   "outputs": [],
   "source": [
    "pitcher_with_ip"
   ]
  },
  {
   "cell_type": "markdown",
   "metadata": {},
   "source": [
    "Presumably, pitching only 10 or even 80 outs is not enough to feel confident that we are dealing with the worst pitcher. Once we get up to 180 outs, we meet [William Stecher](https://www.baseball-reference.com/players/s/stechch01.shtml)."
   ]
  },
  {
   "cell_type": "code",
   "execution_count": null,
   "metadata": {},
   "outputs": [],
   "source": [
    "pitching[pitching['playerID'] == 'stechch01'].loc[:, ['playerID', 'yearID', 'H', 'BB', 'IBB', 'IPouts']]"
   ]
  },
  {
   "cell_type": "code",
   "execution_count": null,
   "metadata": {},
   "outputs": [],
   "source": [
    "pitchers[pitchers.index == 'stechch01']"
   ]
  },
  {
   "cell_type": "markdown",
   "metadata": {},
   "source": [
    "At 770 outs, we encounter [John McMullin](https://www.baseball-reference.com/players/m/mcmuljo01.shtml), who died all the way back in 1881 (!)."
   ]
  },
  {
   "cell_type": "code",
   "execution_count": null,
   "metadata": {},
   "outputs": [],
   "source": [
    "pitching[pitching['playerID'] == 'mcmuljo01'].loc[:, ['playerID', 'yearID', 'H', 'BB', 'IBB', 'IPouts']]"
   ]
  },
  {
   "cell_type": "code",
   "execution_count": null,
   "metadata": {},
   "outputs": [],
   "source": [
    "pitchers[pitchers.index == 'mcmuljo01']"
   ]
  },
  {
   "cell_type": "markdown",
   "metadata": {},
   "source": [
    "## Looking for Pitchers after 1900"
   ]
  },
  {
   "cell_type": "markdown",
   "metadata": {},
   "source": [
    "There were some rule changes before 1900 that changed the game quite a lot. In the 19th century there were restrictions on pitching that we wouldn't recognize today -- restrictions that made it quite difficult for pitchers to excel. So we might bracket pitchers whose earliest years were in the 19th century. Let's see what happens if we do that."
   ]
  },
  {
   "cell_type": "code",
   "execution_count": null,
   "metadata": {},
   "outputs": [],
   "source": [
    "pitchers20th = pitchers.copy()\n",
    "pitchers20th = pitchers20th[pitchers20th['firstYear'] > 1900]"
   ]
  },
  {
   "cell_type": "code",
   "execution_count": null,
   "metadata": {},
   "outputs": [],
   "source": [
    "worsts = {}\n",
    "for ipouts in range(10, 10001, 10):\n",
    "    worsts[ipouts] = whip_prior(ipouts*167/300, ipouts, number=1, data=pitchers20th).iloc[0].name"
   ]
  },
  {
   "cell_type": "code",
   "execution_count": null,
   "metadata": {},
   "outputs": [],
   "source": [
    "set(worsts.values())"
   ]
  },
  {
   "cell_type": "code",
   "execution_count": null,
   "metadata": {},
   "outputs": [],
   "source": [
    "pitcher_with_ip = {}\n",
    "for ipout_num in worsts:\n",
    "    if worsts[ipout_num] not in pitcher_with_ip:\n",
    "        pitcher_with_ip[worsts[ipout_num]] = ipout_num"
   ]
  },
  {
   "cell_type": "code",
   "execution_count": null,
   "metadata": {},
   "outputs": [],
   "source": [
    "pitcher_with_ip"
   ]
  },
  {
   "cell_type": "markdown",
   "metadata": {},
   "source": [
    "In this way we find [Stu Flythe](https://www.baseball-reference.com/players/f/flythst01.shtml) and [Dick Weik](https://www.baseball-reference.com/players/w/weikdi01.shtml), both of whom are in the running for the worst Major League pitcher of all time."
   ]
  },
  {
   "cell_type": "markdown",
   "metadata": {},
   "source": [
    "## Distinguishing Between Starters and Relievers"
   ]
  },
  {
   "cell_type": "markdown",
   "metadata": {},
   "source": [
    "Another distinction we might like to draw is between starting pitchers and relief pitchers. This has been an important part of the game for nearly a century.\n",
    "\n",
    "Probably this will be especially relevant when we look for the *best* pitchers, since managers tend to tolerate higher WHIPs for their starters than for their relievers."
   ]
  },
  {
   "cell_type": "code",
   "execution_count": null,
   "metadata": {},
   "outputs": [],
   "source": [
    "pitchers.columns"
   ]
  },
  {
   "cell_type": "markdown",
   "metadata": {},
   "source": [
    "How shall we determine whether a pitcher was a reliever or not? Probably the easiest way is to take advantage of the `GS` (**G**ames **S**tarted) statistic. What we can do is to compare that statistic with the `G` (**G**ames) statistic. If a sufficiently low percentage of games in which a pitcher appeared are games that that pitcher started, then we can feel safe in classifying that pitcher as a reliever.\n",
    "\n",
    "So: How low is sufficiently low? Let's try a ratio of 1/4. If less than one quarter of the games in which a pitcher appeared are games that the pitcher started, then we'll call that pitcher a reliever.\n",
    "\n",
    "(There are some subtleties here (pitchers transitioning from starter to reliever or the reverse, pitchers with very low counts of games in the first place, etc.), but I think we can safely ignore these complications for now.)"
   ]
  },
  {
   "cell_type": "code",
   "execution_count": null,
   "metadata": {},
   "outputs": [],
   "source": [
    "pitchers20th['reliever'] = pitchers20th['GS'] / pitchers20th['G'] < 0.25"
   ]
  },
  {
   "cell_type": "code",
   "execution_count": null,
   "metadata": {},
   "outputs": [],
   "source": [
    "pitchers20th.head()"
   ]
  },
  {
   "cell_type": "code",
   "execution_count": null,
   "metadata": {},
   "outputs": [],
   "source": [
    "starters = pitchers20th.copy()\n",
    "starters = starters[starters['reliever'] == False]\n",
    "\n",
    "relievers = pitchers20th.copy()\n",
    "relievers = relievers[relievers['reliever'] == True]"
   ]
  },
  {
   "cell_type": "code",
   "execution_count": null,
   "metadata": {},
   "outputs": [],
   "source": [
    "worst_starters = {}\n",
    "for ipouts in range(10, 10001, 10):\n",
    "    worst_starters[ipouts] = whip_prior(ipouts*167/300, ipouts, number=1, data=starters).iloc[0].name"
   ]
  },
  {
   "cell_type": "code",
   "execution_count": null,
   "metadata": {},
   "outputs": [],
   "source": [
    "set(worst_starters.values())"
   ]
  },
  {
   "cell_type": "code",
   "execution_count": null,
   "metadata": {},
   "outputs": [],
   "source": [
    "pitcher_with_ip = {}\n",
    "for ipout_num in worst_starters:\n",
    "    if worst_starters[ipout_num] not in pitcher_with_ip:\n",
    "        pitcher_with_ip[worst_starters[ipout_num]] = ipout_num"
   ]
  },
  {
   "cell_type": "code",
   "execution_count": null,
   "metadata": {},
   "outputs": [],
   "source": [
    "pitcher_with_ip"
   ]
  },
  {
   "cell_type": "markdown",
   "metadata": {},
   "source": [
    "We see Dick Weik again, but a name that didn't show up before is that of [Hayden Penn](https://www.baseball-reference.com/players/p/pennha01.shtml). But Weik is the worst starter for 260 IP_outs all the way up to 2670 IP_outs, so he's my pick for the worst starter in the history of the Major Leagues.\n",
    "\n",
    "![img](https://www.baseball-reference.com/req/202303230/images/headshots/a/af48bbb6_davis.jpg)\n",
    "\n",
    "Image from baseball-reference.com"
   ]
  },
  {
   "cell_type": "code",
   "execution_count": null,
   "metadata": {},
   "outputs": [],
   "source": [
    "pitching[pitching['playerID'] == 'weikdi01'].loc[:, ['playerID', 'yearID', 'H', 'BB', 'IBB', 'IPouts']]"
   ]
  },
  {
   "cell_type": "code",
   "execution_count": null,
   "metadata": {},
   "outputs": [],
   "source": [
    "pitchers[pitchers.index == 'weikdi01']"
   ]
  },
  {
   "cell_type": "code",
   "execution_count": null,
   "metadata": {},
   "outputs": [],
   "source": [
    "worst_relievers = {}\n",
    "for ipouts in range(10, 10001, 10):\n",
    "    worst_relievers[ipouts] = whip_prior(ipouts*167/300, ipouts, number=1, data=relievers).iloc[0].name"
   ]
  },
  {
   "cell_type": "code",
   "execution_count": null,
   "metadata": {},
   "outputs": [],
   "source": [
    "set(worst_relievers.values())"
   ]
  },
  {
   "cell_type": "code",
   "execution_count": null,
   "metadata": {},
   "outputs": [],
   "source": [
    "pitcher_with_ip = {}\n",
    "for ipout_num in worst_relievers:\n",
    "    if worst_relievers[ipout_num] not in pitcher_with_ip:\n",
    "        pitcher_with_ip[worst_relievers[ipout_num]] = ipout_num"
   ]
  },
  {
   "cell_type": "code",
   "execution_count": null,
   "metadata": {},
   "outputs": [],
   "source": [
    "pitcher_with_ip"
   ]
  },
  {
   "cell_type": "markdown",
   "metadata": {},
   "source": [
    "Surely, 820 IP_outs is more than enough for a good baseline. And so we see once again [Stu Flythe](https://www.baseball-reference.com/players/f/flythst01.shtml), who is my pick for the worst reliever in the history of the Major Leagues.\n",
    "\n",
    "![img](https://www.baseball-reference.com/req/202303230/images/headshots/e/eef0c0d3_davis.jpg)\n",
    "\n",
    "Image from baseball-reference.com"
   ]
  },
  {
   "cell_type": "code",
   "execution_count": null,
   "metadata": {},
   "outputs": [],
   "source": [
    "pitching[pitching['playerID'] == 'flythst01'].loc[:, ['playerID', 'yearID', 'H', 'BB', 'IBB', 'IPouts']]"
   ]
  },
  {
   "cell_type": "code",
   "execution_count": null,
   "metadata": {},
   "outputs": [],
   "source": [
    "pitchers[pitchers.index == 'flythst01']"
   ]
  },
  {
   "cell_type": "markdown",
   "metadata": {},
   "source": [
    "## Best Starters and Relievers"
   ]
  },
  {
   "cell_type": "code",
   "execution_count": null,
   "metadata": {},
   "outputs": [],
   "source": [
    "best_starters = {}\n",
    "for ipouts in range(10, 10001, 10):\n",
    "    best_starters[ipouts] = whip_prior(ipouts*167/300, ipouts, number=1, ascending=True, data=starters).iloc[0].name"
   ]
  },
  {
   "cell_type": "code",
   "execution_count": null,
   "metadata": {},
   "outputs": [],
   "source": [
    "set(best_starters.values())"
   ]
  },
  {
   "cell_type": "code",
   "execution_count": null,
   "metadata": {},
   "outputs": [],
   "source": [
    "pitcher_with_ip = {}\n",
    "for ipout_num in best_starters:\n",
    "    if best_starters[ipout_num] not in pitcher_with_ip:\n",
    "        pitcher_with_ip[best_starters[ipout_num]] = ipout_num"
   ]
  },
  {
   "cell_type": "code",
   "execution_count": null,
   "metadata": {},
   "outputs": [],
   "source": [
    "pitcher_with_ip"
   ]
  },
  {
   "cell_type": "markdown",
   "metadata": {},
   "source": [
    "The best starter of all time is very arguably [Addie Joss](https://baseball-reference.com/players/j/jossad01.shtml).\n",
    "\n",
    "![img](https://www.baseball-reference.com/req/202303230/images/headshots/5/5e51b2e7_sabr.jpg)\n",
    "\n",
    "Image from baseball-reference.com"
   ]
  },
  {
   "cell_type": "code",
   "execution_count": null,
   "metadata": {},
   "outputs": [],
   "source": [
    "pitching[pitching['playerID'] == 'jossad01'].loc[:, ['playerID', 'yearID', 'H', 'BB', 'IBB', 'IPouts']]"
   ]
  },
  {
   "cell_type": "code",
   "execution_count": null,
   "metadata": {},
   "outputs": [],
   "source": [
    "pitchers[pitchers.index == 'jossad01']"
   ]
  },
  {
   "cell_type": "code",
   "execution_count": null,
   "metadata": {},
   "outputs": [],
   "source": [
    "best_relievers = {}\n",
    "for ipouts in range(10, 10001, 10):\n",
    "    best_relievers[ipouts] = whip_prior(ipouts*167/300, ipouts, number=1, ascending=True, data=relievers).iloc[0].name"
   ]
  },
  {
   "cell_type": "code",
   "execution_count": null,
   "metadata": {},
   "outputs": [],
   "source": [
    "set(best_relievers.values())"
   ]
  },
  {
   "cell_type": "code",
   "execution_count": null,
   "metadata": {},
   "outputs": [],
   "source": [
    "pitcher_with_ip = {}\n",
    "for ipout_num in best_relievers:\n",
    "    if best_relievers[ipout_num] not in pitcher_with_ip:\n",
    "        pitcher_with_ip[best_relievers[ipout_num]] = ipout_num"
   ]
  },
  {
   "cell_type": "code",
   "execution_count": null,
   "metadata": {},
   "outputs": [],
   "source": [
    "pitcher_with_ip"
   ]
  },
  {
   "cell_type": "markdown",
   "metadata": {},
   "source": [
    "Here the decision is a bit more difficult. But arguably, a sufficient number of IP_outs pitched to be confident in our choice is less than 300, in which case our choice for the greatest reliever of all time will be [Koji Uehara](https://www.baseball-reference.com/players/u/ueharko01.shtml).\n",
    "\n",
    "![img](https://www.baseball-reference.com/req/202303230/images/headshots/e/e109d804_mlbam.jpg)\n",
    "\n",
    "Image from baseball-reference.com"
   ]
  },
  {
   "cell_type": "code",
   "execution_count": null,
   "metadata": {},
   "outputs": [],
   "source": [
    "pitching[pitching['playerID'] == 'ueharko01']"
   ]
  },
  {
   "cell_type": "code",
   "execution_count": null,
   "metadata": {},
   "outputs": [],
   "source": [
    "pitchers[pitchers.index == 'ueharko01']"
   ]
  },
  {
   "cell_type": "code",
   "execution_count": null,
   "metadata": {},
   "outputs": [],
   "source": []
  }
 ],
 "metadata": {
  "kernelspec": {
   "display_name": "Python 3",
   "language": "python",
   "name": "python3"
  },
  "language_info": {
   "codemirror_mode": {
    "name": "ipython",
    "version": 3
   },
   "file_extension": ".py",
   "mimetype": "text/x-python",
   "name": "python",
   "nbconvert_exporter": "python",
   "pygments_lexer": "ipython3",
   "version": "3.8.5"
  }
 },
 "nbformat": 4,
 "nbformat_minor": 4
}
